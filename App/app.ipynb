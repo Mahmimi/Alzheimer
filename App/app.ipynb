{
 "cells": [
  {
   "cell_type": "code",
   "execution_count": 11,
   "metadata": {},
   "outputs": [
    {
     "name": "stdout",
     "output_type": "stream",
     "text": [
      "Running on local URL:  http://127.0.0.1:7870\n",
      "\n",
      "To create a public link, set `share=True` in `launch()`.\n"
     ]
    },
    {
     "data": {
      "text/html": [
       "<div><iframe src=\"http://127.0.0.1:7870/\" width=\"100%\" height=\"500\" allow=\"autoplay; camera; microphone; clipboard-read; clipboard-write;\" frameborder=\"0\" allowfullscreen></iframe></div>"
      ],
      "text/plain": [
       "<IPython.core.display.HTML object>"
      ]
     },
     "metadata": {},
     "output_type": "display_data"
    },
    {
     "data": {
      "text/plain": []
     },
     "execution_count": 11,
     "metadata": {},
     "output_type": "execute_result"
    }
   ],
   "source": [
    "import gradio as gr\n",
    "import torch\n",
    "from utils import *\n",
    "import os\n",
    "\n",
    "model = torch.load('AlzheimerModelCPU.pth')\n",
    "model.eval()\n",
    "\n",
    "def reset():\n",
    "    return None, None, None, None, None\n",
    "\n",
    "with gr.Blocks() as demo:\n",
    "    gr.HTML(\"\"\"\n",
    "        <h1 style=\"text-align: center; font-size: 50px;\">\n",
    "            Alzheimer Detection\n",
    "        </h1>\n",
    "        <p style=\"text-align: center;\">\n",
    "            Early Detection of Alzheimer's Disease: A Deep Learning Approach for Accurate Diagnosis.\n",
    "        </p>\n",
    "        <h3 style=\"text-align: left;\">\n",
    "            To use the demo, please follow the steps below.\n",
    "        </h3>\n",
    "        <ul>\n",
    "            <li style=\"text-align: left; padding: 0px 0px 0px 30px;\">\n",
    "                If you want to try examples, click one of <span style=\"font-weight: bold;\">Examples</span> images below. Then, click \n",
    "                <span style=\"font-weight: bold;\">Submit</span>.\n",
    "            </li>\n",
    "            <li style=\"text-align: left; padding: 0px 0px 0px 30px;\">\n",
    "                if you don't want to try examples, upload an image and click <span style=\"font-weight: bold;\">Submit</span>.\n",
    "            </li>\n",
    "            <li style=\"text-align: left; padding: 0px 0px 0px 30px;\">\n",
    "                You can adjust the <span style=\"font-weight: bold;\">Target</span> for your desire visualization and \n",
    "                <span style=\"font-weight: bold;\">Plot Type</span> between <span style=\"font-weight: bold;\">withmask</span> and <span style=\"font-weight: bold;\">withoutmask</span>\n",
    "                to plot original images with or without Grad-CAM.\n",
    "            </li>\n",
    "            <li style=\"text-align: left; padding: 0px 0px 0px 30px;\">\n",
    "                If you want to reset all components, click <span style=\"font-weight: bold;\">Reset All Components</span> button.\n",
    "            </li>\n",
    "        </ul>\n",
    "        \"\"\"\n",
    "    )\n",
    "    with gr.Row():\n",
    "\n",
    "        with gr.Column():\n",
    "            image_area = gr.Image(sources=[\"upload\"], type=\"pil\", scale=2, label=\"Upload Image\")\n",
    "\n",
    "            with gr.Row():\n",
    "                choosen_plottype =gr.Radio(choices=[\"withmask\", \"withoutmask\"], value=\"withmask\", label=\"Plot Type\", scale=1, interactive=True)\n",
    "                choosen_target = gr.Slider(minimum=0, maximum=200, step=1, value=100, label=\"Classifier OutputTarget\", scale=1, interactive=True)\n",
    "                submit_btn = gr.Button(\"Submit\", variant='primary', scale=1)\n",
    "                \n",
    "        with gr.Column():\n",
    "            gr.HTML(\"\"\"\n",
    "            <h2 style=\"text-align: center;\">\n",
    "                \n",
    "            </h2>\n",
    "            <h2 style=\"text-align: center;\">\n",
    "                Prediction and Grad-CAM\n",
    "            </h2>\n",
    "            <p style=\"text-align: center;\">\n",
    "                Alzheimer detection result with Grad-CAM for 3 images. Original, White Matter and Gray Matter image.\n",
    "            </p>\n",
    "            \"\"\"\n",
    "            )\n",
    "            text_area = gr.Textbox(label=\"Prediction Result\")\n",
    "            plotarea_original = gr.Plot(label=\"Original image\")\n",
    "            plotarea_white = gr.Plot(label=\"White Matter image\")\n",
    "            plotarea_gray = gr.Plot(label=\"Gray Matter image\")\n",
    "        \n",
    "            reset_btn = gr.Button(\"Reset All Components\", variant='stop', scale=1) \n",
    "\n",
    "    gr.HTML(\"\"\"\n",
    "            <h2 style=\"text-align: left;\">\n",
    "                Examples\n",
    "            </h2>\n",
    "            <p style=\"text-align: left;\">\n",
    "                You can select 1 image from the examples and click \"Submit\".\n",
    "            </p>\n",
    "            <p style=\"text-align: left;\">\n",
    "                These images represent 4 different stages of Alzheimer's disease in the following order:<span style=\"font-weight: bold;\">\n",
    "                Non Demented, Very Mild Demented, Mild Demented and Moderate Demented.</span>\n",
    "            </p>\n",
    "            \"\"\"\n",
    "            )\n",
    "    examples = gr.Examples(examples=[   os.path.join(os.getcwd(), \"examples\\\\non.jpg\"), \n",
    "                                        os.path.join(os.getcwd(),\"examples\\\\verymild.jpg\"), \n",
    "                                        os.path.join(os.getcwd(), \"examples\\\\mild.jpg\"), \n",
    "                                        os.path.join(os.getcwd(), \"examples\\\\moderate.jpg\")], \n",
    "                                        inputs=image_area,\n",
    "                                        outputs=image_area, \n",
    "                                        label=\"Examples\",\n",
    "                                        )\n",
    "\n",
    "    submit_btn.click(lambda x, target, plot_type: predict_and_gradcam(x, model=model, target=target, plot_type=plot_type), inputs=[image_area, choosen_target, choosen_plottype], outputs=[text_area, plotarea_original, plotarea_white, plotarea_gray])\n",
    "    reset_btn.click(reset, outputs=[image_area, text_area, plotarea_original, plotarea_white, plotarea_gray])\n",
    "\n",
    "demo.launch()"
   ]
  }
 ],
 "metadata": {
  "kernelspec": {
   "display_name": "Python 3",
   "language": "python",
   "name": "python3"
  },
  "language_info": {
   "codemirror_mode": {
    "name": "ipython",
    "version": 3
   },
   "file_extension": ".py",
   "mimetype": "text/x-python",
   "name": "python",
   "nbconvert_exporter": "python",
   "pygments_lexer": "ipython3",
   "version": "3.11.4"
  }
 },
 "nbformat": 4,
 "nbformat_minor": 2
}
